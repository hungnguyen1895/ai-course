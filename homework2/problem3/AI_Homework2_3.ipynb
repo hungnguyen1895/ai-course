{
  "nbformat": 4,
  "nbformat_minor": 0,
  "metadata": {
    "colab": {
      "name": "AI-Homework2-3.ipynb",
      "provenance": [],
      "collapsed_sections": []
    },
    "kernelspec": {
      "name": "python3",
      "display_name": "Python 3"
    },
    "accelerator": "GPU"
  },
  "cells": [
    {
      "cell_type": "markdown",
      "metadata": {
        "id": "mFrjWJsuy9GX",
        "colab_type": "text"
      },
      "source": [
        "## Loading the CIFAR10 dataset"
      ]
    },
    {
      "cell_type": "code",
      "metadata": {
        "id": "_wH1VerK5J5l",
        "colab_type": "code",
        "colab": {
          "base_uri": "https://localhost:8080/",
          "height": 80
        },
        "outputId": "e6d4ee04-c8b1-4c19-a28f-f2ed37c36c07"
      },
      "source": [
        "import keras\n",
        "from keras.models import Sequential\n",
        "from keras.utils import np_utils\n",
        "from keras.preprocessing.image import ImageDataGenerator\n",
        "from keras.layers import Dense, Activation, Flatten, Dropout, BatchNormalization\n",
        "from keras.layers import Conv2D, MaxPooling2D\n",
        "from keras.datasets import cifar10\n",
        "from keras import regularizers\n",
        "from keras.callbacks import LearningRateScheduler\n",
        "import numpy as np\n",
        "\n",
        "def lr_schedule(epoch):\n",
        "    lrate = 0.001\n",
        "    if epoch > 75:\n",
        "        lrate = 0.0005\n",
        "    if epoch > 100:\n",
        "        lrate = 0.0003\n",
        "    return lrate\n",
        "\n",
        "(x_train, y_train), (x_test, y_test) = cifar10.load_data()\n",
        "x_train = x_train.astype('float32')\n",
        "x_test = x_test.astype('float32')\n",
        "\n",
        "#z-score\n",
        "mean = np.mean(x_train,axis=(0,1,2,3))\n",
        "std = np.std(x_train,axis=(0,1,2,3))\n",
        "x_train = (x_train-mean)/(std+1e-7)\n",
        "x_test = (x_test-mean)/(std+1e-7)\n",
        "\n",
        "num_classes = 10\n",
        "y_train = np_utils.to_categorical(y_train,num_classes)\n",
        "y_test = np_utils.to_categorical(y_test,num_classes)\n",
        "\n",
        "weight_decay = 1e-4\n",
        "\n",
        "\n",
        "\n"
      ],
      "execution_count": 1,
      "outputs": [
        {
          "output_type": "stream",
          "text": [
            "Using TensorFlow backend.\n"
          ],
          "name": "stderr"
        },
        {
          "output_type": "display_data",
          "data": {
            "text/html": [
              "<p style=\"color: red;\">\n",
              "The default version of TensorFlow in Colab will soon switch to TensorFlow 2.x.<br>\n",
              "We recommend you <a href=\"https://www.tensorflow.org/guide/migrate\" target=\"_blank\">upgrade</a> now \n",
              "or ensure your notebook will continue to use TensorFlow 1.x via the <code>%tensorflow_version 1.x</code> magic:\n",
              "<a href=\"https://colab.research.google.com/notebooks/tensorflow_version.ipynb\" target=\"_blank\">more info</a>.</p>\n"
            ],
            "text/plain": [
              "<IPython.core.display.HTML object>"
            ]
          },
          "metadata": {
            "tags": []
          }
        }
      ]
    },
    {
      "cell_type": "markdown",
      "metadata": {
        "id": "2u4sUzow8ZPp",
        "colab_type": "text"
      },
      "source": [
        "## Build overfitting model"
      ]
    },
    {
      "cell_type": "code",
      "metadata": {
        "id": "0hN8775A8esI",
        "colab_type": "code",
        "colab": {
          "base_uri": "https://localhost:8080/",
          "height": 1000
        },
        "outputId": "2dbab43b-4487-4820-f71c-3e1420266d4a"
      },
      "source": [
        "model = Sequential()\n",
        "model.add(Conv2D(32, (3,3), padding='same', kernel_regularizer=regularizers.l2(weight_decay), input_shape=x_train.shape[1:]))\n",
        "model.add(Activation('elu'))\n",
        "model.add(BatchNormalization())\n",
        "model.add(Conv2D(32, (3,3), padding='same', kernel_regularizer=regularizers.l2(weight_decay)))\n",
        "model.add(Activation('elu'))\n",
        "model.add(BatchNormalization())\n",
        "model.add(Conv2D(64, (3,3), padding='same', kernel_regularizer=regularizers.l2(weight_decay)))\n",
        "model.add(Activation('elu'))\n",
        "model.add(BatchNormalization())\n",
        "model.add(Conv2D(64, (3,3), padding='same', kernel_regularizer=regularizers.l2(weight_decay)))\n",
        "model.add(Activation('elu'))\n",
        "model.add(BatchNormalization())\n",
        "model.add(MaxPooling2D(pool_size=(2,2)))\n",
        "model.add(Conv2D(128, (3,3), padding='same', kernel_regularizer=regularizers.l2(weight_decay)))\n",
        "model.add(Activation('elu'))\n",
        "model.add(BatchNormalization())\n",
        "model.add(MaxPooling2D(pool_size=(2,2)))\n",
        "\n",
        "model.add(Flatten())\n",
        "model.add(Dense(num_classes, activation='softmax'))\n",
        "\n",
        "# data augmentation\n",
        "datagen = ImageDataGenerator(\n",
        "    rotation_range=15,\n",
        "    width_shift_range=0.1,\n",
        "    height_shift_range=0.1,\n",
        "    horizontal_flip=True,\n",
        "    )\n",
        "datagen.fit(x_train)\n",
        "batch_size = 64\n",
        "epochs = 20\n",
        "opt_rms = keras.optimizers.rmsprop(lr=0.001,decay=1e-6)\n",
        "model.compile(loss='categorical_crossentropy', optimizer=opt_rms, metrics=['accuracy'])\n",
        "history = model.fit_generator(datagen.flow(x_train, y_train, batch_size=batch_size),\\\n",
        "                    steps_per_epoch=x_train.shape[0] // batch_size,epochs=epochs,\\\n",
        "                    verbose=1,validation_data=(x_test,y_test),callbacks=[LearningRateScheduler(lr_schedule)])"
      ],
      "execution_count": 2,
      "outputs": [
        {
          "output_type": "stream",
          "text": [
            "WARNING:tensorflow:From /usr/local/lib/python3.6/dist-packages/keras/backend/tensorflow_backend.py:66: The name tf.get_default_graph is deprecated. Please use tf.compat.v1.get_default_graph instead.\n",
            "\n",
            "WARNING:tensorflow:From /usr/local/lib/python3.6/dist-packages/keras/backend/tensorflow_backend.py:541: The name tf.placeholder is deprecated. Please use tf.compat.v1.placeholder instead.\n",
            "\n",
            "WARNING:tensorflow:From /usr/local/lib/python3.6/dist-packages/keras/backend/tensorflow_backend.py:4432: The name tf.random_uniform is deprecated. Please use tf.random.uniform instead.\n",
            "\n",
            "WARNING:tensorflow:From /usr/local/lib/python3.6/dist-packages/keras/backend/tensorflow_backend.py:190: The name tf.get_default_session is deprecated. Please use tf.compat.v1.get_default_session instead.\n",
            "\n",
            "WARNING:tensorflow:From /usr/local/lib/python3.6/dist-packages/keras/backend/tensorflow_backend.py:197: The name tf.ConfigProto is deprecated. Please use tf.compat.v1.ConfigProto instead.\n",
            "\n",
            "WARNING:tensorflow:From /usr/local/lib/python3.6/dist-packages/keras/backend/tensorflow_backend.py:203: The name tf.Session is deprecated. Please use tf.compat.v1.Session instead.\n",
            "\n",
            "WARNING:tensorflow:From /usr/local/lib/python3.6/dist-packages/keras/backend/tensorflow_backend.py:207: The name tf.global_variables is deprecated. Please use tf.compat.v1.global_variables instead.\n",
            "\n",
            "WARNING:tensorflow:From /usr/local/lib/python3.6/dist-packages/keras/backend/tensorflow_backend.py:216: The name tf.is_variable_initialized is deprecated. Please use tf.compat.v1.is_variable_initialized instead.\n",
            "\n",
            "WARNING:tensorflow:From /usr/local/lib/python3.6/dist-packages/keras/backend/tensorflow_backend.py:223: The name tf.variables_initializer is deprecated. Please use tf.compat.v1.variables_initializer instead.\n",
            "\n",
            "WARNING:tensorflow:From /usr/local/lib/python3.6/dist-packages/keras/backend/tensorflow_backend.py:2041: The name tf.nn.fused_batch_norm is deprecated. Please use tf.compat.v1.nn.fused_batch_norm instead.\n",
            "\n",
            "WARNING:tensorflow:From /usr/local/lib/python3.6/dist-packages/keras/backend/tensorflow_backend.py:148: The name tf.placeholder_with_default is deprecated. Please use tf.compat.v1.placeholder_with_default instead.\n",
            "\n",
            "WARNING:tensorflow:From /usr/local/lib/python3.6/dist-packages/keras/backend/tensorflow_backend.py:4267: The name tf.nn.max_pool is deprecated. Please use tf.nn.max_pool2d instead.\n",
            "\n",
            "WARNING:tensorflow:From /usr/local/lib/python3.6/dist-packages/keras/optimizers.py:793: The name tf.train.Optimizer is deprecated. Please use tf.compat.v1.train.Optimizer instead.\n",
            "\n",
            "WARNING:tensorflow:From /usr/local/lib/python3.6/dist-packages/keras/backend/tensorflow_backend.py:3576: The name tf.log is deprecated. Please use tf.math.log instead.\n",
            "\n",
            "WARNING:tensorflow:From /usr/local/lib/python3.6/dist-packages/tensorflow_core/python/ops/math_grad.py:1424: where (from tensorflow.python.ops.array_ops) is deprecated and will be removed in a future version.\n",
            "Instructions for updating:\n",
            "Use tf.where in 2.0, which has the same broadcast rule as np.where\n",
            "WARNING:tensorflow:From /usr/local/lib/python3.6/dist-packages/keras/backend/tensorflow_backend.py:1033: The name tf.assign_add is deprecated. Please use tf.compat.v1.assign_add instead.\n",
            "\n",
            "WARNING:tensorflow:From /usr/local/lib/python3.6/dist-packages/keras/backend/tensorflow_backend.py:1020: The name tf.assign is deprecated. Please use tf.compat.v1.assign instead.\n",
            "\n",
            "Epoch 1/20\n",
            "781/781 [==============================] - 28s 36ms/step - loss: 2.3017 - acc: 0.4240 - val_loss: 2.4177 - val_acc: 0.4919\n",
            "Epoch 2/20\n",
            "781/781 [==============================] - 26s 33ms/step - loss: 1.4472 - acc: 0.5931 - val_loss: 1.2449 - val_acc: 0.6305\n",
            "Epoch 3/20\n",
            "781/781 [==============================] - 26s 33ms/step - loss: 1.2520 - acc: 0.6421 - val_loss: 1.0276 - val_acc: 0.6857\n",
            "Epoch 4/20\n",
            "781/781 [==============================] - 26s 33ms/step - loss: 1.1356 - acc: 0.6754 - val_loss: 0.9983 - val_acc: 0.6926\n",
            "Epoch 5/20\n",
            "781/781 [==============================] - 26s 33ms/step - loss: 1.0090 - acc: 0.6986 - val_loss: 1.0710 - val_acc: 0.6955\n",
            "Epoch 6/20\n",
            "781/781 [==============================] - 25s 32ms/step - loss: 0.8538 - acc: 0.7257 - val_loss: 1.0465 - val_acc: 0.6908\n",
            "Epoch 7/20\n",
            "781/781 [==============================] - 26s 33ms/step - loss: 0.8045 - acc: 0.7389 - val_loss: 0.9245 - val_acc: 0.7343\n",
            "Epoch 8/20\n",
            "781/781 [==============================] - 26s 33ms/step - loss: 0.7692 - acc: 0.7534 - val_loss: 0.8701 - val_acc: 0.7496\n",
            "Epoch 9/20\n",
            "781/781 [==============================] - 26s 33ms/step - loss: 0.7451 - acc: 0.7625 - val_loss: 0.8575 - val_acc: 0.7351\n",
            "Epoch 10/20\n",
            "781/781 [==============================] - 26s 33ms/step - loss: 0.7217 - acc: 0.7711 - val_loss: 0.7940 - val_acc: 0.7625\n",
            "Epoch 11/20\n",
            "781/781 [==============================] - 26s 33ms/step - loss: 0.7037 - acc: 0.7783 - val_loss: 0.8050 - val_acc: 0.7569\n",
            "Epoch 12/20\n",
            "781/781 [==============================] - 25s 33ms/step - loss: 0.6861 - acc: 0.7858 - val_loss: 0.7706 - val_acc: 0.7677\n",
            "Epoch 13/20\n",
            "781/781 [==============================] - 26s 33ms/step - loss: 0.6788 - acc: 0.7880 - val_loss: 0.7584 - val_acc: 0.7747\n",
            "Epoch 14/20\n",
            "781/781 [==============================] - 25s 33ms/step - loss: 0.6675 - acc: 0.7901 - val_loss: 0.8061 - val_acc: 0.7592\n",
            "Epoch 15/20\n",
            "781/781 [==============================] - 25s 33ms/step - loss: 0.6575 - acc: 0.7949 - val_loss: 0.7592 - val_acc: 0.7713\n",
            "Epoch 16/20\n",
            "781/781 [==============================] - 26s 33ms/step - loss: 0.6436 - acc: 0.8021 - val_loss: 0.7482 - val_acc: 0.7800\n",
            "Epoch 17/20\n",
            "781/781 [==============================] - 25s 33ms/step - loss: 0.6352 - acc: 0.8069 - val_loss: 0.8084 - val_acc: 0.7633\n",
            "Epoch 18/20\n",
            "781/781 [==============================] - 26s 33ms/step - loss: 0.6271 - acc: 0.8085 - val_loss: 0.7064 - val_acc: 0.8006\n",
            "Epoch 19/20\n",
            "781/781 [==============================] - 26s 33ms/step - loss: 0.6199 - acc: 0.8111 - val_loss: 0.8496 - val_acc: 0.7631\n",
            "Epoch 20/20\n",
            "781/781 [==============================] - 26s 33ms/step - loss: 0.6126 - acc: 0.8132 - val_loss: 0.7135 - val_acc: 0.7885\n"
          ],
          "name": "stdout"
        }
      ]
    },
    {
      "cell_type": "markdown",
      "metadata": {
        "id": "XavgETIZ8wcK",
        "colab_type": "text"
      },
      "source": [
        "## Training/test loss/accuracy during training"
      ]
    },
    {
      "cell_type": "code",
      "metadata": {
        "id": "IUt6sHMb8w0A",
        "colab_type": "code",
        "colab": {}
      },
      "source": [
        "import matplotlib.pyplot as plt\n",
        "import numpy as np\n",
        "\n",
        "history_dict = history.history\n",
        "loss_values = history_dict['loss']\n",
        "test_loss_values = history_dict['val_loss']\n",
        "epochs_range = range(1, epochs+1)"
      ],
      "execution_count": 0,
      "outputs": []
    },
    {
      "cell_type": "code",
      "metadata": {
        "id": "W1WaqAry8zGX",
        "colab_type": "code",
        "colab": {
          "base_uri": "https://localhost:8080/",
          "height": 295
        },
        "outputId": "db940a4d-4067-49f7-d5e7-b8212e3bdc7b"
      },
      "source": [
        "plt.plot(epochs_range, loss_values, 'bo', label='Training loss')\n",
        "plt.plot(epochs_range, test_loss_values, 'ro', label='Test loss')\n",
        "plt.title('Training and test loss')\n",
        "plt.xlabel('Epochs')\n",
        "plt.ylabel('Loss')\n",
        "plt.legend()\n",
        "plt.show()"
      ],
      "execution_count": 4,
      "outputs": [
        {
          "output_type": "display_data",
          "data": {
            "image/png": "[encoded data removed]",
            "text/plain": [
              "<Figure size 432x288 with 1 Axes>"
            ]
          },
          "metadata": {
            "tags": []
          }
        }
      ]
    },
    {
      "cell_type": "code",
      "metadata": {
        "id": "r8Ad7cmX81mz",
        "colab_type": "code",
        "colab": {}
      },
      "source": [
        "acc_values = history_dict['acc']\n",
        "test_acc_values = history_dict['val_acc']"
      ],
      "execution_count": 0,
      "outputs": []
    },
    {
      "cell_type": "code",
      "metadata": {
        "id": "LmeOYVFl82x9",
        "colab_type": "code",
        "colab": {
          "base_uri": "https://localhost:8080/",
          "height": 295
        },
        "outputId": "51c3c7a6-8d59-436c-de4e-b1bac9b3661b"
      },
      "source": [
        "plt.plot(epochs_range, acc_values, 'bo', label='Training accuracy')\n",
        "plt.plot(epochs_range, test_acc_values, 'ro', label='Test accuracy')\n",
        "plt.title('Training and test accuracy')\n",
        "plt.xlabel('Epochs')\n",
        "plt.ylabel('Accuracy')\n",
        "plt.legend()\n",
        "plt.show()"
      ],
      "execution_count": 6,
      "outputs": [
        {
          "output_type": "display_data",
          "data": {
            "image/png": "[encoded data removed]",
            "text/plain": [
              "<Figure size 432x288 with 1 Axes>"
            ]
          },
          "metadata": {
            "tags": []
          }
        }
      ]
    },
    {
      "cell_type": "markdown",
      "metadata": {
        "id": "Gy5olTzb_H9C",
        "colab_type": "text"
      },
      "source": [
        "## Build underfitting model"
      ]
    },
    {
      "cell_type": "code",
      "metadata": {
        "id": "h6Y5SqLO_JOd",
        "colab_type": "code",
        "colab": {
          "base_uri": "https://localhost:8080/",
          "height": 697
        },
        "outputId": "6b7d760e-bf89-439c-d2a3-644cbf9c0ceb"
      },
      "source": [
        "model = Sequential()\n",
        "model.add(Conv2D(32, (3,3), padding='same', kernel_regularizer=regularizers.l2(weight_decay), input_shape=x_train.shape[1:]))\n",
        "model.add(Activation('elu'))\n",
        "model.add(BatchNormalization())\n",
        "model.add(Conv2D(32, (3,3), padding='same', kernel_regularizer=regularizers.l2(weight_decay)))\n",
        "model.add(Activation('elu'))\n",
        "model.add(BatchNormalization())\n",
        "model.add(MaxPooling2D(pool_size=(2,2)))\n",
        "model.add(Conv2D(128, (3,3), padding='same', kernel_regularizer=regularizers.l2(weight_decay)))\n",
        "model.add(Activation('elu'))\n",
        "model.add(BatchNormalization())\n",
        "model.add(MaxPooling2D(pool_size=(2,2)))\n",
        "\n",
        "model.add(Flatten())\n",
        "model.add(Dense(num_classes, activation='softmax'))\n",
        "\n",
        "# data augmentation\n",
        "datagen = ImageDataGenerator(\n",
        "    rotation_range=15,\n",
        "    width_shift_range=0.1,\n",
        "    height_shift_range=0.1,\n",
        "    horizontal_flip=True,\n",
        "    )\n",
        "datagen.fit(x_train)\n",
        "batch_size = 64\n",
        "epochs = 20\n",
        "opt_rms = keras.optimizers.rmsprop(lr=0.001,decay=1e-6)\n",
        "model.compile(loss='categorical_crossentropy', optimizer=opt_rms, metrics=['accuracy'])\n",
        "history = model.fit_generator(datagen.flow(x_train, y_train, batch_size=batch_size),\\\n",
        "                    steps_per_epoch=x_train.shape[0] // batch_size,epochs=epochs,\\\n",
        "                    verbose=1,validation_data=(x_test,y_test),callbacks=[LearningRateScheduler(lr_schedule)])"
      ],
      "execution_count": 7,
      "outputs": [
        {
          "output_type": "stream",
          "text": [
            "Epoch 1/20\n",
            "781/781 [==============================] - 24s 31ms/step - loss: 2.1917 - acc: 0.4337 - val_loss: 1.7191 - val_acc: 0.5447\n",
            "Epoch 2/20\n",
            "781/781 [==============================] - 24s 30ms/step - loss: 1.3344 - acc: 0.5805 - val_loss: 1.1597 - val_acc: 0.6364\n",
            "Epoch 3/20\n",
            "781/781 [==============================] - 24s 30ms/step - loss: 1.0804 - acc: 0.6400 - val_loss: 1.2261 - val_acc: 0.6334\n",
            "Epoch 4/20\n",
            "781/781 [==============================] - 23s 30ms/step - loss: 0.9663 - acc: 0.6769 - val_loss: 1.0207 - val_acc: 0.6816\n",
            "Epoch 5/20\n",
            "781/781 [==============================] - 23s 30ms/step - loss: 0.9036 - acc: 0.6970 - val_loss: 0.9544 - val_acc: 0.7009\n",
            "Epoch 6/20\n",
            "781/781 [==============================] - 23s 30ms/step - loss: 0.8542 - acc: 0.7138 - val_loss: 1.0182 - val_acc: 0.6863\n",
            "Epoch 7/20\n",
            "781/781 [==============================] - 23s 30ms/step - loss: 0.8300 - acc: 0.7235 - val_loss: 0.8213 - val_acc: 0.7369\n",
            "Epoch 8/20\n",
            "781/781 [==============================] - 23s 30ms/step - loss: 0.7970 - acc: 0.7353 - val_loss: 0.9292 - val_acc: 0.7080\n",
            "Epoch 9/20\n",
            "781/781 [==============================] - 23s 30ms/step - loss: 0.7787 - acc: 0.7414 - val_loss: 0.8299 - val_acc: 0.7360\n",
            "Epoch 10/20\n",
            "781/781 [==============================] - 23s 30ms/step - loss: 0.7550 - acc: 0.7494 - val_loss: 0.7779 - val_acc: 0.7561\n",
            "Epoch 11/20\n",
            "781/781 [==============================] - 23s 30ms/step - loss: 0.7397 - acc: 0.7544 - val_loss: 0.9384 - val_acc: 0.7180\n",
            "Epoch 12/20\n",
            "781/781 [==============================] - 23s 30ms/step - loss: 0.7209 - acc: 0.7633 - val_loss: 0.7825 - val_acc: 0.7550\n",
            "Epoch 13/20\n",
            "781/781 [==============================] - 23s 30ms/step - loss: 0.7073 - acc: 0.7678 - val_loss: 0.7524 - val_acc: 0.7678\n",
            "Epoch 14/20\n",
            "781/781 [==============================] - 23s 30ms/step - loss: 0.6993 - acc: 0.7688 - val_loss: 0.9118 - val_acc: 0.7310\n",
            "Epoch 15/20\n",
            "781/781 [==============================] - 23s 30ms/step - loss: 0.6924 - acc: 0.7740 - val_loss: 0.7354 - val_acc: 0.7725\n",
            "Epoch 16/20\n",
            "781/781 [==============================] - 24s 31ms/step - loss: 0.6855 - acc: 0.7775 - val_loss: 0.7482 - val_acc: 0.7695\n",
            "Epoch 17/20\n",
            "781/781 [==============================] - 23s 30ms/step - loss: 0.6732 - acc: 0.7819 - val_loss: 0.7644 - val_acc: 0.7684\n",
            "Epoch 18/20\n",
            "781/781 [==============================] - 24s 30ms/step - loss: 0.6627 - acc: 0.7835 - val_loss: 0.7526 - val_acc: 0.7753\n",
            "Epoch 19/20\n",
            "781/781 [==============================] - 23s 30ms/step - loss: 0.6621 - acc: 0.7848 - val_loss: 0.7506 - val_acc: 0.7732\n",
            "Epoch 20/20\n",
            "781/781 [==============================] - 24s 30ms/step - loss: 0.6546 - acc: 0.7881 - val_loss: 0.7407 - val_acc: 0.7730\n"
          ],
          "name": "stdout"
        }
      ]
    },
    {
      "cell_type": "markdown",
      "metadata": {
        "id": "vuI0kmHI_N6p",
        "colab_type": "text"
      },
      "source": [
        "## Training/test loss/accuracy during training\n"
      ]
    },
    {
      "cell_type": "code",
      "metadata": {
        "id": "o5BX3mO6_RM5",
        "colab_type": "code",
        "colab": {}
      },
      "source": [
        "import matplotlib.pyplot as plt\n",
        "import numpy as np\n",
        "\n",
        "history_dict = history.history\n",
        "loss_values = history_dict['loss']\n",
        "test_loss_values = history_dict['val_loss']\n",
        "epochs_range = range(1, epochs+1)"
      ],
      "execution_count": 0,
      "outputs": []
    },
    {
      "cell_type": "code",
      "metadata": {
        "id": "_7pPQkF2_Up2",
        "colab_type": "code",
        "colab": {
          "base_uri": "https://localhost:8080/",
          "height": 295
        },
        "outputId": "0f5ccbf4-0cf3-489e-c16a-d37fb35ad490"
      },
      "source": [
        "plt.plot(epochs_range, loss_values, 'bo', label='Training loss')\n",
        "plt.plot(epochs_range, test_loss_values, 'ro', label='Test loss')\n",
        "plt.title('Training and test loss')\n",
        "plt.xlabel('Epochs')\n",
        "plt.ylabel('Loss')\n",
        "plt.legend()\n",
        "plt.show()"
      ],
      "execution_count": 9,
      "outputs": [
        {
          "output_type": "display_data",
          "data": {
            "image/png": "[encoded data removed]",
            "text/plain": [
              "<Figure size 432x288 with 1 Axes>"
            ]
          },
          "metadata": {
            "tags": []
          }
        }
      ]
    },
    {
      "cell_type": "code",
      "metadata": {
        "id": "m1YV1WG__Wph",
        "colab_type": "code",
        "colab": {}
      },
      "source": [
        "acc_values = history_dict['acc']\n",
        "test_acc_values = history_dict['val_acc']"
      ],
      "execution_count": 0,
      "outputs": []
    },
    {
      "cell_type": "code",
      "metadata": {
        "id": "5DKK9t87_X8T",
        "colab_type": "code",
        "colab": {
          "base_uri": "https://localhost:8080/",
          "height": 295
        },
        "outputId": "c61628c6-ac78-4246-a0f0-1e5fb758cd1b"
      },
      "source": [
        "plt.plot(epochs_range, acc_values, 'bo', label='Training accuracy')\n",
        "plt.plot(epochs_range, test_acc_values, 'ro', label='Test accuracy')\n",
        "plt.title('Training and test accuracy')\n",
        "plt.xlabel('Epochs')\n",
        "plt.ylabel('Accuracy')\n",
        "plt.legend()\n",
        "plt.show()"
      ],
      "execution_count": 11,
      "outputs": [
        {
          "output_type": "display_data",
          "data": {
            "image/png": "[encoded data removed]",
            "text/plain": [
              "<Figure size 432x288 with 1 Axes>"
            ]
          },
          "metadata": {
            "tags": []
          }
        }
      ]
    },
    {
      "cell_type": "markdown",
      "metadata": {
        "id": "U8soNPKX_0Cm",
        "colab_type": "text"
      },
      "source": [
        "## Build good model"
      ]
    },
    {
      "cell_type": "code",
      "metadata": {
        "id": "aYtRdGp-_1pL",
        "colab_type": "code",
        "colab": {
          "base_uri": "https://localhost:8080/",
          "height": 768
        },
        "outputId": "076ede02-f68f-4219-b7ad-27c76d0cac87"
      },
      "source": [
        "model = Sequential()\n",
        "model.add(Conv2D(32, (3,3), padding='same', kernel_regularizer=regularizers.l2(weight_decay), input_shape=x_train.shape[1:]))\n",
        "model.add(Activation('elu'))\n",
        "model.add(BatchNormalization())\n",
        "model.add(Conv2D(32, (3,3), padding='same', kernel_regularizer=regularizers.l2(weight_decay)))\n",
        "model.add(Activation('elu'))\n",
        "model.add(BatchNormalization())\n",
        "model.add(MaxPooling2D(pool_size=(2,2)))\n",
        "model.add(Dropout(0.2))\n",
        "\n",
        "model.add(Conv2D(64, (3,3), padding='same', kernel_regularizer=regularizers.l2(weight_decay)))\n",
        "model.add(Activation('elu'))\n",
        "model.add(BatchNormalization())\n",
        "model.add(Conv2D(64, (3,3), padding='same', kernel_regularizer=regularizers.l2(weight_decay)))\n",
        "model.add(Activation('elu'))\n",
        "model.add(BatchNormalization())\n",
        "model.add(MaxPooling2D(pool_size=(2,2)))\n",
        "model.add(Dropout(0.3))\n",
        "\n",
        "model.add(Conv2D(128, (3,3), padding='same', kernel_regularizer=regularizers.l2(weight_decay)))\n",
        "model.add(Activation('elu'))\n",
        "model.add(BatchNormalization())\n",
        "model.add(Conv2D(128, (3,3), padding='same', kernel_regularizer=regularizers.l2(weight_decay)))\n",
        "model.add(Activation('elu'))\n",
        "model.add(BatchNormalization())\n",
        "model.add(MaxPooling2D(pool_size=(2,2)))\n",
        "model.add(Dropout(0.4))\n",
        "\n",
        "model.add(Flatten())\n",
        "model.add(Dense(num_classes, activation='softmax'))\n",
        "\n",
        "# data augmentation\n",
        "datagen = ImageDataGenerator(\n",
        "    rotation_range=15,\n",
        "    width_shift_range=0.1,\n",
        "    height_shift_range=0.1,\n",
        "    horizontal_flip=True,\n",
        "    )\n",
        "datagen.fit(x_train)\n",
        "batch_size = 64\n",
        "epochs = 20\n",
        "opt_rms = keras.optimizers.rmsprop(lr=0.001,decay=1e-6)\n",
        "model.compile(loss='categorical_crossentropy', optimizer=opt_rms, metrics=['accuracy'])\n",
        "history = model.fit_generator(datagen.flow(x_train, y_train, batch_size=batch_size),\\\n",
        "                    steps_per_epoch=x_train.shape[0] // batch_size,epochs=epochs,\\\n",
        "                    verbose=1,validation_data=(x_test,y_test),callbacks=[LearningRateScheduler(lr_schedule)])"
      ],
      "execution_count": 12,
      "outputs": [
        {
          "output_type": "stream",
          "text": [
            "WARNING:tensorflow:From /usr/local/lib/python3.6/dist-packages/keras/backend/tensorflow_backend.py:3733: calling dropout (from tensorflow.python.ops.nn_ops) with keep_prob is deprecated and will be removed in a future version.\n",
            "Instructions for updating:\n",
            "Please use `rate` instead of `keep_prob`. Rate should be set to `rate = 1 - keep_prob`.\n",
            "Epoch 1/20\n",
            "781/781 [==============================] - 27s 35ms/step - loss: 1.9053 - acc: 0.4262 - val_loss: 1.3278 - val_acc: 0.5896\n",
            "Epoch 2/20\n",
            "781/781 [==============================] - 25s 33ms/step - loss: 1.2769 - acc: 0.5939 - val_loss: 1.1674 - val_acc: 0.6473\n",
            "Epoch 3/20\n",
            "781/781 [==============================] - 25s 33ms/step - loss: 1.0824 - acc: 0.6561 - val_loss: 1.0112 - val_acc: 0.6986\n",
            "Epoch 4/20\n",
            "781/781 [==============================] - 25s 32ms/step - loss: 0.9880 - acc: 0.6848 - val_loss: 1.0367 - val_acc: 0.6970\n",
            "Epoch 5/20\n",
            "781/781 [==============================] - 25s 32ms/step - loss: 0.9182 - acc: 0.7148 - val_loss: 0.9802 - val_acc: 0.7150\n",
            "Epoch 6/20\n",
            "781/781 [==============================] - 25s 33ms/step - loss: 0.8727 - acc: 0.7322 - val_loss: 0.8261 - val_acc: 0.7609\n",
            "Epoch 7/20\n",
            "781/781 [==============================] - 25s 32ms/step - loss: 0.8381 - acc: 0.7454 - val_loss: 0.7604 - val_acc: 0.7820\n",
            "Epoch 8/20\n",
            "781/781 [==============================] - 26s 33ms/step - loss: 0.8139 - acc: 0.7571 - val_loss: 0.7632 - val_acc: 0.7922\n",
            "Epoch 9/20\n",
            "781/781 [==============================] - 25s 32ms/step - loss: 0.7925 - acc: 0.7666 - val_loss: 0.7697 - val_acc: 0.7885\n",
            "Epoch 10/20\n",
            "781/781 [==============================] - 25s 32ms/step - loss: 0.7685 - acc: 0.7766 - val_loss: 0.7990 - val_acc: 0.7752\n",
            "Epoch 11/20\n",
            "781/781 [==============================] - 25s 32ms/step - loss: 0.7539 - acc: 0.7805 - val_loss: 0.7946 - val_acc: 0.7769\n",
            "Epoch 12/20\n",
            "781/781 [==============================] - 25s 32ms/step - loss: 0.7465 - acc: 0.7846 - val_loss: 0.6895 - val_acc: 0.8072\n",
            "Epoch 13/20\n",
            "781/781 [==============================] - 26s 33ms/step - loss: 0.7222 - acc: 0.7912 - val_loss: 0.7808 - val_acc: 0.7859\n",
            "Epoch 14/20\n",
            "781/781 [==============================] - 26s 34ms/step - loss: 0.7143 - acc: 0.7975 - val_loss: 0.6920 - val_acc: 0.8168\n",
            "Epoch 15/20\n",
            "781/781 [==============================] - 25s 32ms/step - loss: 0.7094 - acc: 0.8008 - val_loss: 0.6789 - val_acc: 0.8165\n",
            "Epoch 16/20\n",
            "781/781 [==============================] - 25s 32ms/step - loss: 0.6991 - acc: 0.8049 - val_loss: 0.6810 - val_acc: 0.8213\n",
            "Epoch 17/20\n",
            "781/781 [==============================] - 25s 32ms/step - loss: 0.6893 - acc: 0.8068 - val_loss: 0.6591 - val_acc: 0.8231\n",
            "Epoch 18/20\n",
            "781/781 [==============================] - 24s 31ms/step - loss: 0.6815 - acc: 0.8122 - val_loss: 0.7701 - val_acc: 0.8010\n",
            "Epoch 19/20\n",
            "781/781 [==============================] - 25s 32ms/step - loss: 0.6778 - acc: 0.8151 - val_loss: 0.6181 - val_acc: 0.8420\n",
            "Epoch 20/20\n",
            "781/781 [==============================] - 25s 32ms/step - loss: 0.6702 - acc: 0.8170 - val_loss: 0.7098 - val_acc: 0.8079\n"
          ],
          "name": "stdout"
        }
      ]
    },
    {
      "cell_type": "markdown",
      "metadata": {
        "id": "gXXgVweQ_4NR",
        "colab_type": "text"
      },
      "source": [
        "## Training/test loss/accuracy during training"
      ]
    },
    {
      "cell_type": "code",
      "metadata": {
        "id": "lOYjdCSI_6jy",
        "colab_type": "code",
        "colab": {}
      },
      "source": [
        "import matplotlib.pyplot as plt\n",
        "import numpy as np\n",
        "\n",
        "history_dict = history.history\n",
        "loss_values = history_dict['loss']\n",
        "test_loss_values = history_dict['val_loss']\n",
        "epochs_range = range(1, epochs+1)"
      ],
      "execution_count": 0,
      "outputs": []
    },
    {
      "cell_type": "code",
      "metadata": {
        "id": "izadXm7i_8D8",
        "colab_type": "code",
        "colab": {
          "base_uri": "https://localhost:8080/",
          "height": 295
        },
        "outputId": "bf2d1a73-10eb-4758-f4ab-213e1ce21aa2"
      },
      "source": [
        "plt.plot(epochs_range, loss_values, 'bo', label='Training loss')\n",
        "plt.plot(epochs_range, test_loss_values, 'ro', label='Test loss')\n",
        "plt.title('Training and test loss')\n",
        "plt.xlabel('Epochs')\n",
        "plt.ylabel('Loss')\n",
        "plt.legend()\n",
        "plt.show()"
      ],
      "execution_count": 14,
      "outputs": [
        {
          "output_type": "display_data",
          "data": {
            "image/png": "[encoded data removed]",
            "text/plain": [
              "<Figure size 432x288 with 1 Axes>"
            ]
          },
          "metadata": {
            "tags": []
          }
        }
      ]
    },
    {
      "cell_type": "code",
      "metadata": {
        "id": "Pgk-64QU_9_5",
        "colab_type": "code",
        "colab": {}
      },
      "source": [
        "acc_values = history_dict['acc']\n",
        "test_acc_values = history_dict['val_acc']"
      ],
      "execution_count": 0,
      "outputs": []
    },
    {
      "cell_type": "code",
      "metadata": {
        "id": "DCqR0ggB__Gd",
        "colab_type": "code",
        "colab": {
          "base_uri": "https://localhost:8080/",
          "height": 295
        },
        "outputId": "48429314-dc21-41f1-e8d8-15334ee47a64"
      },
      "source": [
        "plt.plot(epochs_range, acc_values, 'bo', label='Training accuracy')\n",
        "plt.plot(epochs_range, test_acc_values, 'ro', label='Test accuracy')\n",
        "plt.title('Training and test accuracy')\n",
        "plt.xlabel('Epochs')\n",
        "plt.ylabel('Accuracy')\n",
        "plt.legend()\n",
        "plt.show()"
      ],
      "execution_count": 16,
      "outputs": [
        {
          "output_type": "display_data",
          "data": {
            "image/png": "[encoded data removed]",
            "text/plain": [
              "<Figure size 432x288 with 1 Axes>"
            ]
          },
          "metadata": {
            "tags": []
          }
        }
      ]
    }
  ]
}